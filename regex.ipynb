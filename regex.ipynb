{
  "nbformat": 4,
  "nbformat_minor": 0,
  "metadata": {
    "colab": {
      "provenance": []
    },
    "kernelspec": {
      "name": "python3",
      "display_name": "Python 3"
    },
    "language_info": {
      "name": "python"
    }
  },
  "cells": [
    {
      "cell_type": "markdown",
      "source": [
        "1. . -> any char\n",
        "2. \\* -> 0 or more\n",
        "3. \\+ -> 1 or more\n",
        "4. \\d -> digits\n",
        "5. \\d{n} -> total n any digits\n",
        "6. [] -> including the characters inside the brackets\n",
        "7. [^] -> excluding the characters inside the brackets\n",
        "8. | -> or\n",
        "9. \\D -> any non digit character\n",
        "10. \\s -> any whitespace character\n",
        "11. \\S -> any non whitespace character\n",
        "12. ^ -> start of a string\n",
        "13. $ -> end of a string"
      ],
      "metadata": {
        "id": "SdY-whroRpli"
      }
    },
    {
      "cell_type": "code",
      "execution_count": null,
      "metadata": {
        "id": "iVelr4F9IrZA"
      },
      "outputs": [],
      "source": [
        "import re"
      ]
    },
    {
      "cell_type": "code",
      "source": [
        "txt = 'aldsfllfa1234567890dfad23 ewrdsklfj 4 4fdsfa 434 1234567890'"
      ],
      "metadata": {
        "id": "JeyONGbcLIY9"
      },
      "execution_count": null,
      "outputs": []
    },
    {
      "cell_type": "code",
      "source": [
        "pattern = '\\d{10}'\n",
        "matches = re.findall(pattern, txt)\n",
        "matches"
      ],
      "metadata": {
        "colab": {
          "base_uri": "https://localhost:8080/"
        },
        "id": "LJpJmJ6WK3Ej",
        "outputId": "b818546d-cb16-4f3f-f7fe-2aeef60c4511"
      },
      "execution_count": null,
      "outputs": [
        {
          "output_type": "execute_result",
          "data": {
            "text/plain": [
              "['1234567890', '1234567890']"
            ]
          },
          "metadata": {},
          "execution_count": 8
        }
      ]
    },
    {
      "cell_type": "code",
      "source": [
        "txt = 'aldsfllfa1234567890dfad23 ewrdsklfj 4 (456)-345-43545 4fdsfa 434 1234567890 (456)-3455-43545'"
      ],
      "metadata": {
        "id": "XfKvt-A2LOT8"
      },
      "execution_count": null,
      "outputs": []
    },
    {
      "cell_type": "code",
      "source": [
        "pattern = '\\(\\d{3}\\)-\\d{3}-\\d{4}'\n",
        "matches = re.findall(pattern, txt)\n",
        "matches"
      ],
      "metadata": {
        "colab": {
          "base_uri": "https://localhost:8080/"
        },
        "id": "rPfeHHC-MLbg",
        "outputId": "d3e12da8-a013-4b9f-912c-6fd38f53b9ec"
      },
      "execution_count": null,
      "outputs": [
        {
          "output_type": "execute_result",
          "data": {
            "text/plain": [
              "['(456)-345-4354']"
            ]
          },
          "metadata": {},
          "execution_count": 10
        }
      ]
    },
    {
      "cell_type": "code",
      "source": [
        "txt = 'aldsfllfa1234567890dfad23 ewrdsklfj 4 (456)-345-43545 4fdsfa 434 1234567890 (456)-3455-43545'"
      ],
      "metadata": {
        "id": "WhbnIV7qMXO3"
      },
      "execution_count": null,
      "outputs": []
    },
    {
      "cell_type": "code",
      "source": [
        "pattern = '\\d{10}|\\(\\d{3}\\)-\\d{3}-\\d{4}'\n",
        "matches = re.findall(pattern, txt)\n",
        "matches"
      ],
      "metadata": {
        "colab": {
          "base_uri": "https://localhost:8080/"
        },
        "id": "hiXvvSYeMqf6",
        "outputId": "92acd1cc-6551-403b-e0c7-669abf63f850"
      },
      "execution_count": null,
      "outputs": [
        {
          "output_type": "execute_result",
          "data": {
            "text/plain": [
              "['1234567890', '(456)-345-4354', '1234567890']"
            ]
          },
          "metadata": {},
          "execution_count": 11
        }
      ]
    },
    {
      "cell_type": "code",
      "source": [
        "txt = 'aldsfllfa1234567890dfad23 ewrdsklfj 4 xyz@gmail.com abc_dfa@ymail.io hello-email@yahoo.com rtgg_98@gmail.com @.'"
      ],
      "metadata": {
        "id": "mfX67oMDMuz6"
      },
      "execution_count": null,
      "outputs": []
    },
    {
      "cell_type": "code",
      "source": [
        "pattern = '[a-zA-Z0-9_-]+@[a-zA-Z]+\\.[a-zA-Z]+'\n",
        "matches = re.findall(pattern, txt)\n",
        "matches"
      ],
      "metadata": {
        "colab": {
          "base_uri": "https://localhost:8080/"
        },
        "id": "-_iY7XnROEuG",
        "outputId": "413cce60-e9bf-4f83-a85c-20698913b1fd"
      },
      "execution_count": null,
      "outputs": [
        {
          "output_type": "execute_result",
          "data": {
            "text/plain": [
              "['xyz@gmail.com',\n",
              " 'abc_dfa@ymail.io',\n",
              " 'hello-email@yahoo.com',\n",
              " 'rtgg_98@gmail.com']"
            ]
          },
          "metadata": {},
          "execution_count": 17
        }
      ]
    },
    {
      "cell_type": "code",
      "source": [
        "txt = 'order # 43545243 order 32455 adsf order number 2452523 alfjalfj'"
      ],
      "metadata": {
        "id": "cyzQLwyhOW37"
      },
      "execution_count": null,
      "outputs": []
    },
    {
      "cell_type": "code",
      "source": [
        "pattern = 'order[^\\d]*\\d*'\n",
        "matches = re.findall(pattern, txt)\n",
        "matches"
      ],
      "metadata": {
        "colab": {
          "base_uri": "https://localhost:8080/"
        },
        "id": "cwEPtw9gPttD",
        "outputId": "95a95e01-8a8d-4b09-f910-2eb3c5a8c266"
      },
      "execution_count": null,
      "outputs": [
        {
          "output_type": "execute_result",
          "data": {
            "text/plain": [
              "['order # 43545243', 'order 32455', 'order number 2452523']"
            ]
          },
          "metadata": {},
          "execution_count": 20
        }
      ]
    },
    {
      "cell_type": "code",
      "source": [
        "pattern = 'order[^\\d]*(\\d*)'\n",
        "matches = re.findall(pattern, txt)\n",
        "matches"
      ],
      "metadata": {
        "colab": {
          "base_uri": "https://localhost:8080/"
        },
        "id": "xiKf3jXOP8Yj",
        "outputId": "7a9b6bb1-a0c5-4c40-fc3f-80bfb1843864"
      },
      "execution_count": null,
      "outputs": [
        {
          "output_type": "execute_result",
          "data": {
            "text/plain": [
              "['43545243', '32455', '2452523']"
            ]
          },
          "metadata": {},
          "execution_count": 21
        }
      ]
    },
    {
      "cell_type": "code",
      "source": [],
      "metadata": {
        "id": "tom9t5Z4QEvM"
      },
      "execution_count": null,
      "outputs": []
    }
  ]
}